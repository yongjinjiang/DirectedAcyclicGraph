{
 "cells": [
  {
   "cell_type": "code",
   "execution_count": 151,
   "metadata": {},
   "outputs": [],
   "source": [
    "from graphviz import Digraph\n",
    "import numpy as np\n",
    "from matplotlib import pyplot as plt\n",
    "import pandas as pd"
   ]
  },
  {
   "cell_type": "code",
   "execution_count": 74,
   "metadata": {},
   "outputs": [
    {
     "name": "stdout",
     "output_type": "stream",
     "text": [
      "10  node 18  edges\n",
      "Done\n"
     ]
    }
   ],
   "source": [
    "from random import shuffle as sl\n",
    "from random import randint as rd\n",
    " \n",
    "def gn():\n",
    "    num = rd(1,1000)\n",
    "    return num\n",
    "def w2f(f,num,fg):\n",
    "    f.write(str(num))\n",
    "    if fg==True:\n",
    "        f.write('\\n')\n",
    "    else:\n",
    "        f.write(' ')\n",
    " \n",
    "n = 10\n",
    "def DataMake(c):\n",
    "    MAXL =100000;\n",
    "    f = open('data'+str(c)+'.txt','w')\n",
    "    \n",
    "    node = list(range(1,n+1))\n",
    "    sl(node)\n",
    "    sl(node)\n",
    "    m = rd(1,min(n*n,5000))\n",
    "    w2f(f,n,0);w2f(f,m,1)\n",
    "    edges=[]\n",
    "    count=0\n",
    "    while count<m:\n",
    "        p1 = rd (1,n-1)\n",
    "        p2 = rd (p1+1,n)\n",
    "        x = node[p1-1]\n",
    "        y = node[p2-1]\n",
    "        if [x,y] not in edges:\n",
    "            edges.append([x,y])\n",
    "            l = rd(1,MAXL)\n",
    "            w = gn()\n",
    "#         w2f(f,x,0);w2f(f,y,0);w2f(f,l,0);w2f(f,w,1)\n",
    " \n",
    "            w2f(f,x,0);w2f(f,y,0);w2f(f,w,1)\n",
    "            count+=1\n",
    "    \n",
    "    \n",
    "#     k = gn()\n",
    "#     w2f(f,k,1)\n",
    "#     for i in range(0,k):\n",
    "#         w2f(f,gn(),1)\n",
    "#     print(n,' node',m,' edges',k,'Queries')\n",
    "    print(n,' node',m,' edges')\n",
    "    f.close()\n",
    " \n",
    "DataMake(1)\n",
    "print('Done')\n"
   ]
  },
  {
   "cell_type": "code",
   "execution_count": null,
   "metadata": {},
   "outputs": [],
   "source": [
    "from graphviz import Digraph\n",
    "\n",
    "f = Digraph('finite_state_machine', filename='fsm.gv')\n",
    "f.attr(rankdir='LR', size='8,5')\n",
    "\n",
    "f.attr('node', shape='doublecircle')\n",
    "f.node('LR_0')\n",
    "f.node('LR_3')\n",
    "f.node('LR_4')\n",
    "f.node('LR_8')\n",
    "\n",
    "f.attr('node', shape='circle')\n",
    "f.edge('LR_0', 'LR_2', label='SS(B)')\n",
    "f.edge('LR_0', 'LR_1', label='SS(S)')\n",
    "f.edge('LR_1', 'LR_3', label='S($end)')\n",
    "f.edge('LR_2', 'LR_6', label='SS(b)')\n",
    "f.edge('LR_2', 'LR_5', label='SS(a)')\n",
    "f.edge('LR_2', 'LR_4', label='S(A)')\n",
    "f.edge('LR_5', 'LR_7', label='S(b)')\n",
    "f.edge('LR_5', 'LR_5', label='S(a)')\n",
    "f.edge('LR_6', 'LR_6', label='S(b)')\n",
    "f.edge('LR_6', 'LR_5', label='S(a)')\n",
    "f.edge('LR_7', 'LR_8', label='S(b)')\n",
    "f.edge('LR_7', 'LR_5', label='S(a)')\n",
    "f.edge('LR_8', 'LR_6', label='S(b)')\n",
    "f.edge('LR_8', 'LR_5', label='S(a)')\n",
    "\n",
    "f.view()"
   ]
  },
  {
   "cell_type": "code",
   "execution_count": 75,
   "metadata": {},
   "outputs": [
    {
     "data": {
      "text/plain": [
       "'fsm.gv.pdf'"
      ]
     },
     "execution_count": 75,
     "metadata": {},
     "output_type": "execute_result"
    }
   ],
   "source": [
    "from graphviz import Digraph\n",
    "f = Digraph('finite_state_machine', filename='fsm.gv')\n",
    "with f.subgraph() as s:\n",
    "    s.attr(rank='same')\n",
    "    f.attr('node', shape='circle')\n",
    "    for i in range(n):\n",
    "        f.node(str(i))\n",
    "    \n",
    "    \n",
    "# f.attr(rankdir='LR', size='8,5')\n",
    "\n",
    "\n",
    " \n",
    "file1 = open('data'+str(1)+'.txt',\"r\")  \n",
    "n,m=[int(x) for x in file1.readline().split()]\n",
    "\n",
    "f.attr('node', shape='circle')\n",
    "for i in range(n):\n",
    "    f.node(str(i))\n",
    "\n",
    "mat=np.zeros([n]*2)\n",
    "f.attr('node', shape='circle')    \n",
    "for i in range(m):\n",
    "    i,j,k=[int(x) for x in file1.readline().split()]\n",
    "    f.edge(str(i-1), str(j-1), label=str(k))\n",
    "    mat[j-1,i-1]=k\n",
    "#     print(i,j)\n",
    "    \n",
    "f.view()    "
   ]
  },
  {
   "cell_type": "code",
   "execution_count": null,
   "metadata": {},
   "outputs": [],
   "source": [
    "dic[]"
   ]
  },
  {
   "cell_type": "code",
   "execution_count": 80,
   "metadata": {},
   "outputs": [
    {
     "data": {
      "text/plain": [
       "[]"
      ]
     },
     "execution_count": 80,
     "metadata": {},
     "output_type": "execute_result"
    },
    {
     "data": {
      "text/plain": [
       "[]"
      ]
     },
     "execution_count": 80,
     "metadata": {},
     "output_type": "execute_result"
    },
    {
     "data": {
      "text/plain": [
       "[]"
      ]
     },
     "execution_count": 80,
     "metadata": {},
     "output_type": "execute_result"
    },
    {
     "data": {
      "text/plain": [
       "[]"
      ]
     },
     "execution_count": 80,
     "metadata": {},
     "output_type": "execute_result"
    },
    {
     "data": {
      "text/plain": [
       "[]"
      ]
     },
     "execution_count": 80,
     "metadata": {},
     "output_type": "execute_result"
    },
    {
     "data": {
      "text/plain": [
       "[]"
      ]
     },
     "execution_count": 80,
     "metadata": {},
     "output_type": "execute_result"
    },
    {
     "data": {
      "text/plain": [
       "[]"
      ]
     },
     "execution_count": 80,
     "metadata": {},
     "output_type": "execute_result"
    },
    {
     "data": {
      "text/plain": [
       "[]"
      ]
     },
     "execution_count": 80,
     "metadata": {},
     "output_type": "execute_result"
    },
    {
     "data": {
      "text/plain": [
       "[]"
      ]
     },
     "execution_count": 80,
     "metadata": {},
     "output_type": "execute_result"
    },
    {
     "data": {
      "text/plain": [
       "[]"
      ]
     },
     "execution_count": 80,
     "metadata": {},
     "output_type": "execute_result"
    },
    {
     "data": {
      "text/plain": [
       "{'0': [],\n",
       " '1': [5, 6, 7, 9],\n",
       " '2': [],\n",
       " '3': [0, 6],\n",
       " '4': [],\n",
       " '5': [0, 7],\n",
       " '6': [0],\n",
       " '7': [0, 3, 6],\n",
       " '8': [3, 4, 5, 9],\n",
       " '9': [6, 7]}"
      ]
     },
     "execution_count": 80,
     "metadata": {},
     "output_type": "execute_result"
    },
    {
     "name": "stdout",
     "output_type": "stream",
     "text": [
      "top_list= [0]\n",
      "top_list= [0, 6]\n",
      "top_list= [0, 6, 3]\n",
      "top_list= [0, 6, 3, 7]\n",
      "top_list= [0, 6, 3, 7, 5]\n",
      "top_list= [0, 6, 3, 7, 5, 9]\n",
      "top_list= [0, 6, 3, 7, 5, 9, 1]\n",
      "top_list= [0, 6, 3, 7, 5, 9, 1, 2]\n",
      "top_list= [0, 6, 3, 7, 5, 9, 1, 2, 4]\n",
      "top_list= [0, 6, 3, 7, 5, 9, 1, 2, 4, 8]\n"
     ]
    },
    {
     "data": {
      "text/plain": [
       "[0, 6, 3, 7, 5, 9, 1, 2, 4, 8]"
      ]
     },
     "execution_count": 80,
     "metadata": {},
     "output_type": "execute_result"
    }
   ],
   "source": [
    "dic=dict()  #key:node, value:list of the node's chidren\n",
    "for j in range(n):\n",
    "      dic.setdefault(str(j),[]);\n",
    "      for i in range(n):\n",
    "        if mat[i,j]!=0:\n",
    "            dic[str(j)].append(i)\n",
    "dic\n",
    "nodes=range(n)\n",
    "top_list=[]\n",
    "\n",
    "def child(j):\n",
    "    while dic[str(j)] != [] and not set(dic[str(j)]).issubset(set(top_list)):\n",
    "        for i in dic[str(j)]:\n",
    "            while dic[str(i)] !=[] and not set(dic[str(i)]).issubset(set(top_list)):   \n",
    "                child(i)\n",
    "            else:\n",
    "                if  i not in top_list: \n",
    "                    top_list.append(i)\n",
    "                    print(\"top_list=\",top_list)\n",
    "    else:\n",
    "        if j not in top_list:\n",
    "            top_list.append(j)\n",
    "            print(\"top_list=\",top_list)\n",
    "                    \n",
    "for j in nodes:\n",
    "     child(j)\n",
    "\n",
    "top_list\n",
    "    \n",
    "# def path(G, start, end):\n",
    "    "
   ]
  },
  {
   "cell_type": "code",
   "execution_count": 171,
   "metadata": {},
   "outputs": [],
   "source": [
    "#3rd step: Enumerate paths:  produce all directed paths connecting two nodes V_i(node_label: start) to V_j(node_label: end).\n",
    "import copy\n",
    "def paths_given_two_nodes(dic,top_list, start, end):\n",
    "    id_start=top_list.index(start)\n",
    "    id_end=top_list.index(end)\n",
    "    if id_start<=id_end:\n",
    "        return None\n",
    "    \n",
    "    def add_path(new_node,path,paths):\n",
    "        if top_list.index(new_node)>id_end:\n",
    "            path.append(new_node)         \n",
    "        elif top_list.index(new_node)==id_end:\n",
    "            path.append(new_node)\n",
    "            paths.append(copy.deepcopy(path))  #deepcopy is essential here!!\n",
    "#             print('1',paths)    this print statement will produce strange result!!\n",
    "            path.pop()\n",
    "            return path,paths\n",
    "        else:\n",
    "            return path,paths\n",
    "        \n",
    "        for nn in dic[str(new_node)]:\n",
    "            path,paths=add_path(nn,path,paths) \n",
    "        path.pop()\n",
    "        return path,paths\n",
    "    paths=[]\n",
    "    path=[]\n",
    "    path,paths=add_path(start,path,paths)\n",
    "    return paths\n",
    "   \n"
   ]
  },
  {
   "cell_type": "code",
   "execution_count": 172,
   "metadata": {},
   "outputs": [
    {
     "data": {
      "text/plain": [
       "[[8, 3, 6],\n",
       " [8, 5, 7, 3, 6],\n",
       " [8, 5, 7, 6],\n",
       " [8, 9, 6],\n",
       " [8, 9, 7, 3, 6],\n",
       " [8, 9, 7, 6]]"
      ]
     },
     "execution_count": 172,
     "metadata": {},
     "output_type": "execute_result"
    }
   ],
   "source": [
    "#run 3rd step:\n",
    "paths=paths_given_two_nodes(dic,top_list,8,6)\n",
    "paths"
   ]
  },
  {
   "cell_type": "code",
   "execution_count": 144,
   "metadata": {},
   "outputs": [],
   "source": [
    "parents_dic=dict()  #key:node, value:list of the node's chidren\n",
    "for i in range(n):\n",
    "      s=parents_dic.setdefault(str(i),[]);\n",
    "      for j in range(n):\n",
    "        if mat[i,j]!=0:\n",
    "            parents_dic[str(i)].append(j)"
   ]
  },
  {
   "cell_type": "code",
   "execution_count": 148,
   "metadata": {},
   "outputs": [],
   "source": [
    "parents_dic;\n",
    "dic;"
   ]
  },
  {
   "cell_type": "code",
   "execution_count": 149,
   "metadata": {},
   "outputs": [],
   "source": [
    "#4th step: Generate data according to the structure of the graph:\n",
    "n_sample=1000\n",
    "Data=np.zeros((n_sample,n))\n",
    "mod1=lambda num:np.random.normal(0,1,num)\n",
    "\n",
    "\n",
    "for d in range(n_sample):\n",
    "    Data[d,:]=mod1(n)  # first step: all nodes are assigned a random number with distribution N(0,1) \n",
    "    for i in range(n):\n",
    "        for j in parents_dic[str(i)]:\n",
    "            Data[d,i]=Data[d,i]+Data[d,j]  #for nodes with parents, the parents variables are added\n",
    "\n",
    "    \n",
    "\n"
   ]
  },
  {
   "cell_type": "code",
   "execution_count": 170,
   "metadata": {},
   "outputs": [
    {
     "data": {
      "text/plain": [
       "-0.040355855442805344"
      ]
     },
     "execution_count": 170,
     "metadata": {},
     "output_type": "execute_result"
    },
    {
     "data": {
      "image/png": "[encoded data removed]",
      "text/plain": [
       "<Figure size 720x720 with 1 Axes>"
      ]
     },
     "metadata": {},
     "output_type": "display_data"
    }
   ],
   "source": [
    "%matplotlib inline\n",
    "import matplotlib.pyplot as plt\n",
    "mod1=lambda num:np.random.normal(0,1,num)\n",
    "population = mod1(30000);\n",
    "observation = population[np.random.randint(0, 30000, 1000)];\n",
    "\n",
    "fig = plt.figure(figsize=(10,10))\n",
    "ax = fig.add_subplot(1,1,1)\n",
    "s=ax.hist( observation,bins=35 ,)\n",
    "s=ax.set_xlabel(\"Value\");\n",
    "s=ax.set_ylabel(\"Frequency\");\n",
    "s=ax.set_title(\"Figure 1: Distribution of 1000 observations sampled from a population of 30,000 with mu=10, sigma=3\");\n",
    "mu_obs=observation.mean()\n",
    "mu_obs\n"
   ]
  },
  {
   "cell_type": "code",
   "execution_count": 209,
   "metadata": {},
   "outputs": [
    {
     "data": {
      "text/plain": [
       "0.004780886283039548"
      ]
     },
     "execution_count": 209,
     "metadata": {},
     "output_type": "execute_result"
    },
    {
     "data": {
      "image/png": "[encoded data removed]",
      "text/plain": [
       "<Figure size 720x720 with 3 Axes>"
      ]
     },
     "metadata": {},
     "output_type": "display_data"
    }
   ],
   "source": [
    "#target and feature selection:\n",
    "df=pd.DataFrame(Data)\n",
    "y=df[5]\n",
    "X=df[[0,1,2,7,8]]\n",
    "# Y[:3]\n",
    "# Data[:3,5]\n",
    "# df.shape\n",
    "# X[1][:3]\n",
    "\n",
    "fig = plt.figure(figsize=(10,10))\n",
    "ax = fig.add_subplot(3,1,1)\n",
    "s=ax.hist( np.array(y),bins=35 ,)\n",
    "ax = fig.add_subplot(3,1,2)\n",
    "s=ax.hist( np.array(X[1]),bins=35 ,)\n",
    "ax = fig.add_subplot(3,1,3)\n",
    "s=ax.hist( np.array(X[2]),bins=35 ,)\n",
    "\n",
    "s=ax.set_xlabel(\"Value\");\n",
    "s=ax.set_ylabel(\"Frequency\");\n",
    "s=ax.set_title(\"Figure 1: Distribution from a population of 1,000 with mu=0, sigma=1\");\n",
    "mu_obs=y.mean()\n",
    "mu_obs"
   ]
  },
  {
   "cell_type": "code",
   "execution_count": 159,
   "metadata": {},
   "outputs": [],
   "source": [
    "import statsmodels.api as sm\n",
    "from sklearn import linear_model"
   ]
  },
  {
   "cell_type": "code",
   "execution_count": 210,
   "metadata": {},
   "outputs": [
    {
     "data": {
      "text/html": [
       "<table class=\"simpletable\">\n",
       "<caption>OLS Regression Results</caption>\n",
       "<tr>\n",
       "  <th>Dep. Variable:</th>            <td>5</td>        <th>  R-squared:         </th> <td>   0.793</td>\n",
       "</tr>\n",
       "<tr>\n",
       "  <th>Model:</th>                   <td>OLS</td>       <th>  Adj. R-squared:    </th> <td>   0.792</td>\n",
       "</tr>\n",
       "<tr>\n",
       "  <th>Method:</th>             <td>Least Squares</td>  <th>  F-statistic:       </th> <td>   764.3</td>\n",
       "</tr>\n",
       "<tr>\n",
       "  <th>Date:</th>             <td>Tue, 03 Sep 2019</td> <th>  Prob (F-statistic):</th>  <td>  0.00</td> \n",
       "</tr>\n",
       "<tr>\n",
       "  <th>Time:</th>                 <td>11:02:20</td>     <th>  Log-Likelihood:    </th> <td> -1161.2</td>\n",
       "</tr>\n",
       "<tr>\n",
       "  <th>No. Observations:</th>      <td>  1000</td>      <th>  AIC:               </th> <td>   2332.</td>\n",
       "</tr>\n",
       "<tr>\n",
       "  <th>Df Residuals:</th>          <td>   995</td>      <th>  BIC:               </th> <td>   2357.</td>\n",
       "</tr>\n",
       "<tr>\n",
       "  <th>Df Model:</th>              <td>     5</td>      <th>                     </th>     <td> </td>   \n",
       "</tr>\n",
       "<tr>\n",
       "  <th>Covariance Type:</th>      <td>nonrobust</td>    <th>                     </th>     <td> </td>   \n",
       "</tr>\n",
       "</table>\n",
       "<table class=\"simpletable\">\n",
       "<tr>\n",
       "  <td></td>     <th>coef</th>     <th>std err</th>      <th>t</th>      <th>P>|t|</th>  <th>[0.025</th>    <th>0.975]</th>  \n",
       "</tr>\n",
       "<tr>\n",
       "  <th>0</th> <td>    0.0939</td> <td>    0.013</td> <td>    7.002</td> <td> 0.000</td> <td>    0.068</td> <td>    0.120</td>\n",
       "</tr>\n",
       "<tr>\n",
       "  <th>1</th> <td>    0.4486</td> <td>    0.041</td> <td>   10.855</td> <td> 0.000</td> <td>    0.368</td> <td>    0.530</td>\n",
       "</tr>\n",
       "<tr>\n",
       "  <th>2</th> <td>   -0.0106</td> <td>    0.024</td> <td>   -0.438</td> <td> 0.662</td> <td>   -0.058</td> <td>    0.037</td>\n",
       "</tr>\n",
       "<tr>\n",
       "  <th>7</th> <td>    0.2550</td> <td>    0.017</td> <td>   14.830</td> <td> 0.000</td> <td>    0.221</td> <td>    0.289</td>\n",
       "</tr>\n",
       "<tr>\n",
       "  <th>8</th> <td>    0.7416</td> <td>    0.030</td> <td>   24.888</td> <td> 0.000</td> <td>    0.683</td> <td>    0.800</td>\n",
       "</tr>\n",
       "</table>\n",
       "<table class=\"simpletable\">\n",
       "<tr>\n",
       "  <th>Omnibus:</th>       <td> 2.526</td> <th>  Durbin-Watson:     </th> <td>   2.018</td>\n",
       "</tr>\n",
       "<tr>\n",
       "  <th>Prob(Omnibus):</th> <td> 0.283</td> <th>  Jarque-Bera (JB):  </th> <td>   2.577</td>\n",
       "</tr>\n",
       "<tr>\n",
       "  <th>Skew:</th>          <td>-0.103</td> <th>  Prob(JB):          </th> <td>   0.276</td>\n",
       "</tr>\n",
       "<tr>\n",
       "  <th>Kurtosis:</th>      <td> 2.862</td> <th>  Cond. No.          </th> <td>    6.05</td>\n",
       "</tr>\n",
       "</table><br/><br/>Warnings:<br/>[1] Standard Errors assume that the covariance matrix of the errors is correctly specified."
      ],
      "text/plain": [
       "<class 'statsmodels.iolib.summary.Summary'>\n",
       "\"\"\"\n",
       "                            OLS Regression Results                            \n",
       "==============================================================================\n",
       "Dep. Variable:                      5   R-squared:                       0.793\n",
       "Model:                            OLS   Adj. R-squared:                  0.792\n",
       "Method:                 Least Squares   F-statistic:                     764.3\n",
       "Date:                Tue, 03 Sep 2019   Prob (F-statistic):               0.00\n",
       "Time:                        11:02:20   Log-Likelihood:                -1161.2\n",
       "No. Observations:                1000   AIC:                             2332.\n",
       "Df Residuals:                     995   BIC:                             2357.\n",
       "Df Model:                           5                                         \n",
       "Covariance Type:            nonrobust                                         \n",
       "==============================================================================\n",
       "                 coef    std err          t      P>|t|      [0.025      0.975]\n",
       "------------------------------------------------------------------------------\n",
       "0              0.0939      0.013      7.002      0.000       0.068       0.120\n",
       "1              0.4486      0.041     10.855      0.000       0.368       0.530\n",
       "2             -0.0106      0.024     -0.438      0.662      -0.058       0.037\n",
       "7              0.2550      0.017     14.830      0.000       0.221       0.289\n",
       "8              0.7416      0.030     24.888      0.000       0.683       0.800\n",
       "==============================================================================\n",
       "Omnibus:                        2.526   Durbin-Watson:                   2.018\n",
       "Prob(Omnibus):                  0.283   Jarque-Bera (JB):                2.577\n",
       "Skew:                          -0.103   Prob(JB):                        0.276\n",
       "Kurtosis:                       2.862   Cond. No.                         6.05\n",
       "==============================================================================\n",
       "\n",
       "Warnings:\n",
       "[1] Standard Errors assume that the covariance matrix of the errors is correctly specified.\n",
       "\"\"\""
      ]
     },
     "execution_count": 210,
     "metadata": {},
     "output_type": "execute_result"
    }
   ],
   "source": [
    "model = sm.OLS(y, X).fit()\n",
    "predictions = model.predict(X)\n",
    "model.summary()"
   ]
  },
  {
   "cell_type": "code",
   "execution_count": 211,
   "metadata": {},
   "outputs": [
    {
     "name": "stdout",
     "output_type": "stream",
     "text": [
      "1\n"
     ]
    },
    {
     "data": {
      "text/html": [
       "<table class=\"simpletable\">\n",
       "<caption>OLS Regression Results</caption>\n",
       "<tr>\n",
       "  <th>Dep. Variable:</th>            <td>5</td>        <th>  R-squared:         </th> <td>   0.795</td>\n",
       "</tr>\n",
       "<tr>\n",
       "  <th>Model:</th>                   <td>OLS</td>       <th>  Adj. R-squared:    </th> <td>   0.794</td>\n",
       "</tr>\n",
       "<tr>\n",
       "  <th>Method:</th>             <td>Least Squares</td>  <th>  F-statistic:       </th> <td>   769.8</td>\n",
       "</tr>\n",
       "<tr>\n",
       "  <th>Date:</th>             <td>Tue, 03 Sep 2019</td> <th>  Prob (F-statistic):</th>  <td>  0.00</td> \n",
       "</tr>\n",
       "<tr>\n",
       "  <th>Time:</th>                 <td>11:02:35</td>     <th>  Log-Likelihood:    </th> <td> -1158.0</td>\n",
       "</tr>\n",
       "<tr>\n",
       "  <th>No. Observations:</th>      <td>  1000</td>      <th>  AIC:               </th> <td>   2328.</td>\n",
       "</tr>\n",
       "<tr>\n",
       "  <th>Df Residuals:</th>          <td>   994</td>      <th>  BIC:               </th> <td>   2357.</td>\n",
       "</tr>\n",
       "<tr>\n",
       "  <th>Df Model:</th>              <td>     5</td>      <th>                     </th>     <td> </td>   \n",
       "</tr>\n",
       "<tr>\n",
       "  <th>Covariance Type:</th>      <td>nonrobust</td>    <th>                     </th>     <td> </td>   \n",
       "</tr>\n",
       "</table>\n",
       "<table class=\"simpletable\">\n",
       "<tr>\n",
       "    <td></td>       <th>coef</th>     <th>std err</th>      <th>t</th>      <th>P>|t|</th>  <th>[0.025</th>    <th>0.975]</th>  \n",
       "</tr>\n",
       "<tr>\n",
       "  <th>const</th> <td>    0.0625</td> <td>    0.025</td> <td>    2.549</td> <td> 0.011</td> <td>    0.014</td> <td>    0.111</td>\n",
       "</tr>\n",
       "<tr>\n",
       "  <th>0</th>     <td>    0.0925</td> <td>    0.013</td> <td>    6.912</td> <td> 0.000</td> <td>    0.066</td> <td>    0.119</td>\n",
       "</tr>\n",
       "<tr>\n",
       "  <th>1</th>     <td>    0.4522</td> <td>    0.041</td> <td>   10.966</td> <td> 0.000</td> <td>    0.371</td> <td>    0.533</td>\n",
       "</tr>\n",
       "<tr>\n",
       "  <th>2</th>     <td>   -0.0099</td> <td>    0.024</td> <td>   -0.407</td> <td> 0.684</td> <td>   -0.057</td> <td>    0.038</td>\n",
       "</tr>\n",
       "<tr>\n",
       "  <th>7</th>     <td>    0.2550</td> <td>    0.017</td> <td>   14.870</td> <td> 0.000</td> <td>    0.221</td> <td>    0.289</td>\n",
       "</tr>\n",
       "<tr>\n",
       "  <th>8</th>     <td>    0.7432</td> <td>    0.030</td> <td>   25.004</td> <td> 0.000</td> <td>    0.685</td> <td>    0.802</td>\n",
       "</tr>\n",
       "</table>\n",
       "<table class=\"simpletable\">\n",
       "<tr>\n",
       "  <th>Omnibus:</th>       <td> 2.506</td> <th>  Durbin-Watson:     </th> <td>   2.032</td>\n",
       "</tr>\n",
       "<tr>\n",
       "  <th>Prob(Omnibus):</th> <td> 0.286</td> <th>  Jarque-Bera (JB):  </th> <td>   2.557</td>\n",
       "</tr>\n",
       "<tr>\n",
       "  <th>Skew:</th>          <td>-0.103</td> <th>  Prob(JB):          </th> <td>   0.278</td>\n",
       "</tr>\n",
       "<tr>\n",
       "  <th>Kurtosis:</th>      <td> 2.862</td> <th>  Cond. No.          </th> <td>    6.05</td>\n",
       "</tr>\n",
       "</table><br/><br/>Warnings:<br/>[1] Standard Errors assume that the covariance matrix of the errors is correctly specified."
      ],
      "text/plain": [
       "<class 'statsmodels.iolib.summary.Summary'>\n",
       "\"\"\"\n",
       "                            OLS Regression Results                            \n",
       "==============================================================================\n",
       "Dep. Variable:                      5   R-squared:                       0.795\n",
       "Model:                            OLS   Adj. R-squared:                  0.794\n",
       "Method:                 Least Squares   F-statistic:                     769.8\n",
       "Date:                Tue, 03 Sep 2019   Prob (F-statistic):               0.00\n",
       "Time:                        11:02:35   Log-Likelihood:                -1158.0\n",
       "No. Observations:                1000   AIC:                             2328.\n",
       "Df Residuals:                     994   BIC:                             2357.\n",
       "Df Model:                           5                                         \n",
       "Covariance Type:            nonrobust                                         \n",
       "==============================================================================\n",
       "                 coef    std err          t      P>|t|      [0.025      0.975]\n",
       "------------------------------------------------------------------------------\n",
       "const          0.0625      0.025      2.549      0.011       0.014       0.111\n",
       "0              0.0925      0.013      6.912      0.000       0.066       0.119\n",
       "1              0.4522      0.041     10.966      0.000       0.371       0.533\n",
       "2             -0.0099      0.024     -0.407      0.684      -0.057       0.038\n",
       "7              0.2550      0.017     14.870      0.000       0.221       0.289\n",
       "8              0.7432      0.030     25.004      0.000       0.685       0.802\n",
       "==============================================================================\n",
       "Omnibus:                        2.506   Durbin-Watson:                   2.032\n",
       "Prob(Omnibus):                  0.286   Jarque-Bera (JB):                2.557\n",
       "Skew:                          -0.103   Prob(JB):                        0.278\n",
       "Kurtosis:                       2.862   Cond. No.                         6.05\n",
       "==============================================================================\n",
       "\n",
       "Warnings:\n",
       "[1] Standard Errors assume that the covariance matrix of the errors is correctly specified.\n",
       "\"\"\""
      ]
     },
     "execution_count": 211,
     "metadata": {},
     "output_type": "execute_result"
    }
   ],
   "source": [
    "X = sm.add_constant(X)\n",
    "model = sm.OLS(y, X).fit()\n",
    "predictions = model.predict(X)\n",
    "model.summary()"
   ]
  },
  {
   "cell_type": "code",
   "execution_count": 194,
   "metadata": {},
   "outputs": [
    {
     "data": {
      "text/plain": [
       "(1000,)"
      ]
     },
     "execution_count": 194,
     "metadata": {},
     "output_type": "execute_result"
    },
    {
     "data": {
      "text/plain": [
       "(1000,)"
      ]
     },
     "execution_count": 194,
     "metadata": {},
     "output_type": "execute_result"
    }
   ],
   "source": [
    "model.predict().shape\n",
    "model.fittedvalues.shape"
   ]
  },
  {
   "cell_type": "code",
   "execution_count": 213,
   "metadata": {},
   "outputs": [],
   "source": [
    "# dir(model);\n",
    "from statsmodels.sandbox.regression.predstd import wls_prediction_std\n",
    "prstd, iv_l, iv_u = wls_prediction_std(model)"
   ]
  },
  {
   "cell_type": "code",
   "execution_count": 219,
   "metadata": {},
   "outputs": [
    {
     "data": {
      "text/plain": [
       "(1000,)"
      ]
     },
     "execution_count": 219,
     "metadata": {},
     "output_type": "execute_result"
    },
    {
     "data": {
      "text/plain": [
       "(1000,)"
      ]
     },
     "execution_count": 219,
     "metadata": {},
     "output_type": "execute_result"
    }
   ],
   "source": [
    "iv_u.shape\n",
    "x.shape"
   ]
  },
  {
   "cell_type": "code",
   "execution_count": 218,
   "metadata": {},
   "outputs": [
    {
     "data": {
      "image/png": "[encoded data removed]",
      "text/plain": [
       "<Figure size 576x432 with 1 Axes>"
      ]
     },
     "metadata": {},
     "output_type": "display_data"
    }
   ],
   "source": [
    "fig, ax = plt.subplots(figsize=(8,6))\n",
    "x=X[1]\n",
    "ax.plot(x, y, 'o', label=\"data\")\n",
    "# ax.plot(x, y_true, 'b-', label=\"True\")\n",
    "ax.plot(x, model.fittedvalues, 'bs', label=\"OLS\")\n",
    "ax.plot(x, iv_u, 'd', label=\"iv_u\")\n",
    "ax.plot(x, iv_l, 'd', label=\"iv_v\")\n",
    "ax.legend(loc='best');"
   ]
  },
  {
   "cell_type": "code",
   "execution_count": 27,
   "metadata": {},
   "outputs": [
    {
     "data": {
      "text/plain": [
       "'Digraph.gv.pdf'"
      ]
     },
     "execution_count": 27,
     "metadata": {},
     "output_type": "execute_result"
    }
   ],
   "source": [
    "import graphviz\n",
    "\n",
    "d = graphviz.Digraph()\n",
    "\n",
    "with d.subgraph() as s:\n",
    "    s.attr(rank='same')\n",
    "    s.node('A')\n",
    "    \n",
    "\n",
    "d.node('C')\n",
    "\n",
    "with d.subgraph() as s:\n",
    "    s.attr(rank='same')\n",
    "    s.node('B')\n",
    "    s.node('D')\n",
    "    s.node('Y')\n",
    "\n",
    "d.edges(['AB', 'AC', 'CD'])\n",
    "\n",
    "d.view()"
   ]
  },
  {
   "cell_type": "code",
   "execution_count": 200,
   "metadata": {},
   "outputs": [],
   "source": [
    "# nsample = 50\n",
    "# groups = np.zeros(nsample, int)\n",
    "# groups[20:40] = 1\n",
    "# groups[40:] = 2\n",
    "# #dummy = (groups[:,None] == np.unique(groups)).astype(float)\n",
    "\n",
    "# dummy = sm.categorical(groups, drop=True)\n",
    "# x = np.linspace(0, 20, nsample)\n",
    "# # drop reference category\n",
    "# X = np.column_stack((x, dummy[:,1:]))\n",
    "# X = sm.add_constant(X, prepend=False)\n"
   ]
  },
  {
   "cell_type": "code",
   "execution_count": 201,
   "metadata": {},
   "outputs": [],
   "source": [
    "X;"
   ]
  },
  {
   "cell_type": "code",
   "execution_count": null,
   "metadata": {},
   "outputs": [],
   "source": []
  }
 ],
 "metadata": {
  "kernelspec": {
   "display_name": "Python [conda env:PythonData]",
   "language": "python",
   "name": "conda-env-PythonData-py"
  },
  "language_info": {
   "codemirror_mode": {
    "name": "ipython",
    "version": 3
   },
   "file_extension": ".py",
   "mimetype": "text/x-python",
   "name": "python",
   "nbconvert_exporter": "python",
   "pygments_lexer": "ipython3",
   "version": "3.6.5"
  }
 },
 "nbformat": 4,
 "nbformat_minor": 2
}
